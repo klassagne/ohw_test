{
 "cells": [
  {
   "cell_type": "markdown",
   "id": "215866b3-b76b-44a2-a369-148f10758c71",
   "metadata": {},
   "source": [
    "# md for new test file"
   ]
  },
  {
   "cell_type": "code",
   "execution_count": null,
   "id": "c55fcd7f-7e33-475f-8196-ce51d5369f6d",
   "metadata": {},
   "outputs": [],
   "source": []
  }
 ],
 "metadata": {
  "kernelspec": {
   "display_name": "Python 3 (ipykernel)",
   "language": "python",
   "name": "python3"
  },
  "language_info": {
   "codemirror_mode": {
    "name": "ipython",
    "version": 3
   },
   "file_extension": ".py",
   "mimetype": "text/x-python",
   "name": "python",
   "nbconvert_exporter": "python",
   "pygments_lexer": "ipython3",
   "version": "3.12.4"
  }
 },
 "nbformat": 4,
 "nbformat_minor": 5
}
